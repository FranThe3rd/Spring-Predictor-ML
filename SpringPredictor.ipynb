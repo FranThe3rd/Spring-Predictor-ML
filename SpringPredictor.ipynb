{
 "cells": [
  {
   "cell_type": "code",
   "execution_count": 2,
   "metadata": {},
   "outputs": [
    {
     "name": "stdout",
     "output_type": "stream",
     "text": [
      "Processed early_spring.csv\n",
      "Processed phil_pred.csv\n",
      "Processed soil.csv\n",
      "Processed weather.csv\n",
      "\n",
      "First 5 rows of combined data:\n",
      "        year early_spring       source_file prediction day  mean_soil_temp  \\\n",
      "0 2016-01-01         True  early_spring.csv        NaN NaT             NaN   \n",
      "1 2024-01-01         True  early_spring.csv        NaN NaT             NaN   \n",
      "2 1969-01-01        False  early_spring.csv        NaN NaT             NaN   \n",
      "3 1956-01-01        False  early_spring.csv        NaN NaT             NaN   \n",
      "4 2010-01-01         True  early_spring.csv        NaN NaT             NaN   \n",
      "\n",
      "   mean_soil_moisture  min_soil_temp  min_soil_moisture  max_soil_temp  \\\n",
      "0                 NaN            NaN                NaN            NaN   \n",
      "1                 NaN            NaN                NaN            NaN   \n",
      "2                 NaN            NaN                NaN            NaN   \n",
      "3                 NaN            NaN                NaN            NaN   \n",
      "4                 NaN            NaN                NaN            NaN   \n",
      "\n",
      "   max_soil_moisture date max_temp min_temp avg_temp precipitation snowfall  \\\n",
      "0                NaN  NaT      NaN      NaN      NaN           NaN      NaN   \n",
      "1                NaN  NaT      NaN      NaN      NaN           NaN      NaN   \n",
      "2                NaN  NaT      NaN      NaN      NaN           NaN      NaN   \n",
      "3                NaN  NaT      NaN      NaN      NaN           NaN      NaN   \n",
      "4                NaN  NaT      NaN      NaN      NaN           NaN      NaN   \n",
      "\n",
      "  snowdepth  \n",
      "0       NaN  \n",
      "1       NaN  \n",
      "2       NaN  \n",
      "3       NaN  \n",
      "4       NaN  \n",
      "\n",
      "Shape of combined data: (7980, 18)\n",
      "\n",
      "Columns in combined data:\n",
      "['year', 'early_spring', 'source_file', 'prediction', 'day', 'mean_soil_temp', 'mean_soil_moisture', 'min_soil_temp', 'min_soil_moisture', 'max_soil_temp', 'max_soil_moisture', 'date', 'max_temp', 'min_temp', 'avg_temp', 'precipitation', 'snowfall', 'snowdepth']\n",
      "\n",
      "Merge completed. Combined data saved to combined_data.csv\n"
     ]
    }
   ],
   "source": [
    "import pandas as pd\n",
    "import os\n",
    "\n",
    "# List of CSV files\n",
    "csv_files = [\n",
    "    'early_spring.csv',\n",
    "    'phil_pred.csv',\n",
    "    'soil.csv',\n",
    "    'weather.csv'\n",
    "]\n",
    "\n",
    "# Function to process each file\n",
    "def process_file(file):\n",
    "    df = pd.read_csv(file)\n",
    "    \n",
    "    # Add a column to identify the source file\n",
    "    df['source_file'] = os.path.basename(file)\n",
    "    \n",
    "    # Perform any necessary preprocessing here\n",
    "    if 'date' in df.columns:\n",
    "        df['date'] = pd.to_datetime(df['date'])\n",
    "    elif 'day' in df.columns:\n",
    "        df['day'] = pd.to_datetime(df['day'])\n",
    "    elif 'year' in df.columns:\n",
    "        df['year'] = pd.to_datetime(df['year'], format='%Y')\n",
    "    \n",
    "    return df\n",
    "\n",
    "# Combine CSV files\n",
    "output_file = 'combined_data.csv'\n",
    "combined_data = pd.DataFrame()\n",
    "\n",
    "for file in csv_files:\n",
    "    df = process_file(file)\n",
    "    combined_data = pd.concat([combined_data, df], ignore_index=True)\n",
    "    print(f\"Processed {file}\")\n",
    "\n",
    "# Save the combined data\n",
    "combined_data.to_csv(output_file, index=False)\n",
    "\n",
    "# Verify the combined file\n",
    "print(\"\\nFirst 5 rows of combined data:\")\n",
    "print(combined_data.head())\n",
    "\n",
    "print(\"\\nShape of combined data:\", combined_data.shape)\n",
    "\n",
    "print(\"\\nColumns in combined data:\")\n",
    "print(combined_data.columns.tolist())\n",
    "\n",
    "print(\"\\nMerge completed. Combined data saved to\", output_file)"
   ]
  },
  {
   "cell_type": "code",
   "execution_count": 7,
   "metadata": {},
   "outputs": [],
   "source": [
    "data = pd.read_csv('combined_data.csv')"
   ]
  }
 ],
 "metadata": {
  "kernelspec": {
   "display_name": "Python 3",
   "language": "python",
   "name": "python3"
  },
  "language_info": {
   "codemirror_mode": {
    "name": "ipython",
    "version": 3
   },
   "file_extension": ".py",
   "mimetype": "text/x-python",
   "name": "python",
   "nbconvert_exporter": "python",
   "pygments_lexer": "ipython3",
   "version": "3.11.0"
  }
 },
 "nbformat": 4,
 "nbformat_minor": 2
}
