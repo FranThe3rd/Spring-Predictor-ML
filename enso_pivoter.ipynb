{
 "cells": [
  {
   "cell_type": "code",
   "execution_count": 1,
   "metadata": {},
   "outputs": [],
   "source": [
    "import pandas as pd"
   ]
  },
  {
   "cell_type": "code",
   "execution_count": 2,
   "metadata": {},
   "outputs": [
    {
     "data": {
      "text/plain": [
       "(74, 240)"
      ]
     },
     "execution_count": 2,
     "metadata": {},
     "output_type": "execute_result"
    }
   ],
   "source": [
    "data = pd.read_csv('ENSO.csv', parse_dates=['date'])\n",
    "\n",
    "dat = data.copy()\n",
    "dat['year'] = dat.date.dt.year\n",
    "dat['month'] = dat.date.dt.month\n",
    "dat['month_str'] = dat.date.dt.strftime('%b')\n",
    "dat = dat.drop(columns=['date'])\n",
    "dat_pivoted = dat.pivot(index='year', columns='month')\n",
    "dat_pivoted.columns = [\"_\".join(str(x) for x in a) for a in dat_pivoted.columns.to_flat_index()]\n",
    "dat_pivoted.shape\n"
   ]
  }
 ],
 "metadata": {
  "kernelspec": {
   "display_name": "Python 3",
   "language": "python",
   "name": "python3"
  },
  "language_info": {
   "codemirror_mode": {
    "name": "ipython",
    "version": 3
   },
   "file_extension": ".py",
   "mimetype": "text/x-python",
   "name": "python",
   "nbconvert_exporter": "python",
   "pygments_lexer": "ipython3",
   "version": "3.12.6"
  }
 },
 "nbformat": 4,
 "nbformat_minor": 2
}
